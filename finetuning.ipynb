{
 "cells": [
  {
   "cell_type": "code",
   "execution_count": 5,
   "id": "8aa46bde",
   "metadata": {},
   "outputs": [],
   "source": [
    "import os\n",
    "\n",
    "from mistralai.client import MistralClient\n",
    "from mistralai.models.jobs import WandbIntegrationIn, TrainingParameters\n",
    "from dotenv import load_dotenv\n",
    "\n",
    "load_dotenv()\n",
    "\n",
    "mistral_api_key = os.environ[\"MISTRAL_API_KEY\"]\n",
    "wandb_api_key = os.environ[\"WANDB_API_KEY\"]\n",
    "\n",
    "client = MistralClient(api_key=mistral_api_key)\n",
    "\n",
    "train_file = \"chipstral_train.jsonl\"\n",
    "eval_file = \"chipstral_eval.jsonl\""
   ]
  },
  {
   "cell_type": "code",
   "execution_count": 3,
   "id": "5e5026f2",
   "metadata": {},
   "outputs": [
    {
     "data": {
      "text/plain": [
       "FileObject(id='e22e42c4-ea4c-488b-ae7e-7ffb1f64de17', object='file', bytes=45287873, created_at=1719764144, filename='chipstral_train.jsonl', purpose='fine-tune')"
      ]
     },
     "execution_count": 3,
     "metadata": {},
     "output_type": "execute_result"
    }
   ],
   "source": [
    "with open(train_file, \"rb\") as f:\n",
    "    chipstral_train = client.files.create(file=(train_file, f))\n",
    "    \n",
    "chipstral_train"
   ]
  },
  {
   "cell_type": "code",
   "execution_count": 4,
   "id": "10130017",
   "metadata": {},
   "outputs": [
    {
     "data": {
      "text/plain": [
       "FileObject(id='b501c69c-69d8-4e4e-bb86-1a669186169a', object='file', bytes=1886057, created_at=1719764145, filename='chipstral_eval.jsonl', purpose='fine-tune')"
      ]
     },
     "execution_count": 4,
     "metadata": {},
     "output_type": "execute_result"
    }
   ],
   "source": [
    "with open(eval_file, \"rb\") as f:\n",
    "    chipstral_eval = client.files.create(file=(eval_file, f))\n",
    "    \n",
    "chipstral_eval"
   ]
  },
  {
   "cell_type": "code",
   "execution_count": 8,
   "id": "b6876e18",
   "metadata": {},
   "outputs": [
    {
     "data": {
      "text/plain": [
       "Job(id='e84d1b84-2a82-454d-8a50-b70faa3ac6f0', hyperparameters=TrainingParameters(training_steps=100, learning_rate=0.0001), fine_tuned_model=None, model='open-mistral-7b', status='QUEUED', job_type='FT', created_at=1719764338, modified_at=1719764338, training_files=['e22e42c4-ea4c-488b-ae7e-7ffb1f64de17'], validation_files=['b501c69c-69d8-4e4e-bb86-1a669186169a'], object='job', integrations=[WandbIntegration(type='wandb', project='mistral7b_finetuning', name=None, run_name='run_chipstral')])"
      ]
     },
     "execution_count": 8,
     "metadata": {},
     "output_type": "execute_result"
    }
   ],
   "source": [
    "created_jobs = client.jobs.create(\n",
    "    model=\"open-mistral-7b\",\n",
    "    training_files=[chipstral_train.id],\n",
    "    validation_files=[chipstral_eval.id],\n",
    "    #dry_run=True,\n",
    "    hyperparameters=TrainingParameters(\n",
    "        training_steps=100,\n",
    "        learning_rate=0.0001,\n",
    "    ),\n",
    "    suffix=\"chipstral-model\",\n",
    "    integrations=[\n",
    "        WandbIntegrationIn(\n",
    "            project=\"mistral7b_finetuning\",\n",
    "            run_name=\"run_chipstral\",\n",
    "            api_key=wandb_api_key,\n",
    "        ).dict()\n",
    "    ]\n",
    ")\n",
    "\n",
    "created_jobs\n"
   ]
  },
  {
   "cell_type": "code",
   "execution_count": 12,
   "id": "0a86a330",
   "metadata": {},
   "outputs": [
    {
     "data": {
      "text/plain": [
       "DetailedJob(id='e84d1b84-2a82-454d-8a50-b70faa3ac6f0', hyperparameters=TrainingParameters(training_steps=100, learning_rate=0.0001), fine_tuned_model='ft:open-mistral-7b:9db6a39e:20240630:chipstral-model:e84d1b84', model='open-mistral-7b', status='SUCCESS', job_type='FT', created_at=1719764338, modified_at=1719764960, training_files=['e22e42c4-ea4c-488b-ae7e-7ffb1f64de17'], validation_files=['b501c69c-69d8-4e4e-bb86-1a669186169a'], object='job', integrations=[WandbIntegration(type='wandb', project='mistral7b_finetuning', name=None, run_name='run_chipstral')], events=[Event(name='status-updated', data={'status': 'SUCCESS'}, created_at=1719764960), Event(name='status-updated', data={'status': 'RUNNING'}, created_at=1719764338), Event(name='status-updated', data={'status': 'QUEUED'}, created_at=1719764338)], checkpoints=[Checkpoint(metrics=Metric(train_loss=0.003845, valid_loss=None, valid_mean_token_accuracy=None), step_number=100, created_at=1719764917), Checkpoint(metrics=Metric(train_loss=0.005082, valid_loss=0.006903, valid_mean_token_accuracy=1.004796), step_number=80, created_at=1719764805), Checkpoint(metrics=Metric(train_loss=0.004417, valid_loss=0.008417, valid_mean_token_accuracy=1.005851), step_number=60, created_at=1719764693), Checkpoint(metrics=Metric(train_loss=0.013197, valid_loss=0.016203, valid_mean_token_accuracy=1.011294), step_number=40, created_at=1719764592), Checkpoint(metrics=Metric(train_loss=0.344649, valid_loss=0.289608, valid_mean_token_accuracy=1.222308), step_number=20, created_at=1719764480)], estimated_start_time=None)"
      ]
     },
     "execution_count": 12,
     "metadata": {},
     "output_type": "execute_result"
    }
   ],
   "source": [
    "retrieved_jobs = client.jobs.retrieve(created_jobs.id)\n",
    "retrieved_jobs"
   ]
  }
 ],
 "metadata": {
  "kernelspec": {
   "display_name": "Python 3 (ipykernel)",
   "language": "python",
   "name": "python3"
  },
  "language_info": {
   "codemirror_mode": {
    "name": "ipython",
    "version": 3
   },
   "file_extension": ".py",
   "mimetype": "text/x-python",
   "name": "python",
   "nbconvert_exporter": "python",
   "pygments_lexer": "ipython3",
   "version": "3.10.13"
  }
 },
 "nbformat": 4,
 "nbformat_minor": 5
}
